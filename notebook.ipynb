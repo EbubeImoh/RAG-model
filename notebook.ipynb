{
 "cells": [
  {
   "cell_type": "markdown",
   "id": "7dcd633d",
   "metadata": {},
   "source": [
    "#### Importing dependencies"
   ]
  },
  {
   "cell_type": "code",
   "execution_count": null,
   "id": "0f878be9",
   "metadata": {
    "vscode": {
     "languageId": "plaintext"
    }
   },
   "outputs": [],
   "source": [
    "# Importing python libraries\n",
    "\n",
    "pip install langchain pymupdf streamlit chromadb faiss-cpu sentence-transformers python-docx ollama "
   ]
  },
  {
   "cell_type": "code",
   "execution_count": null,
   "id": "59c1a2df",
   "metadata": {
    "vscode": {
     "languageId": "plaintext"
    }
   },
   "outputs": [],
   "source": []
  }
 ],
 "metadata": {
  "language_info": {
   "name": "python"
  }
 },
 "nbformat": 4,
 "nbformat_minor": 5
}
